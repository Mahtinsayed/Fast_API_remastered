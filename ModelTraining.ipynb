{
  "nbformat": 4,
  "nbformat_minor": 0,
  "metadata": {
    "colab": {
      "name": "Untitled3.ipynb",
      "private_outputs": true,
      "provenance": []
    },
    "kernelspec": {
      "name": "python3",
      "display_name": "Python 3"
    },
    "language_info": {
      "name": "python"
    },
    "accelerator": "GPU"
  },
  "cells": [
    {
      "cell_type": "code",
      "source": [
        "import gensim\n",
        "import pandas as pd"
      ],
      "metadata": {
        "id": "zPYhGv4Pk2Rs"
      },
      "execution_count": null,
      "outputs": []
    },
    {
      "cell_type": "code",
      "source": [
        "df = pd.read_csv(\"final_clustering_dataset_09_okt_2021.csv\")\n",
        "df"
      ],
      "metadata": {
        "id": "w7DtMEgGk5wG"
      },
      "execution_count": null,
      "outputs": []
    },
    {
      "cell_type": "code",
      "source": [
        "category = df.category.apply(gensim.utils.simple_preprocess)"
      ],
      "metadata": {
        "id": "Urif_BCSoAz4"
      },
      "execution_count": null,
      "outputs": []
    },
    {
      "cell_type": "code",
      "source": [
        "model = gensim.models.Word2Vec(\n",
        "    window=10,\n",
        "    min_count=2,\n",
        "    workers=4,\n",
        ")"
      ],
      "metadata": {
        "id": "AViiQY4NoMDI"
      },
      "execution_count": null,
      "outputs": []
    },
    {
      "cell_type": "code",
      "source": [
        "model.build_vocab(category, progress_per=1000)"
      ],
      "metadata": {
        "id": "bYabrX3QoPC1"
      },
      "execution_count": null,
      "outputs": []
    },
    {
      "cell_type": "code",
      "source": [
        "model.train(category, total_examples=model.corpus_count, epochs=model.epochs)"
      ],
      "metadata": {
        "id": "qc90q0jwoR05"
      },
      "execution_count": null,
      "outputs": []
    },
    {
      "cell_type": "code",
      "source": [
        "model.wv.most_similar(\"druckertreiber\")"
      ],
      "metadata": {
        "id": "w7LXlhJVEgNv"
      },
      "execution_count": null,
      "outputs": []
    },
    {
      "cell_type": "code",
      "source": [
        "import joblib\n",
        "joblib.dump(model, 'model_joblib')\n"
      ],
      "metadata": {
        "id": "gpkpX0wHpRO_"
      },
      "execution_count": null,
      "outputs": []
    }
  ]
}